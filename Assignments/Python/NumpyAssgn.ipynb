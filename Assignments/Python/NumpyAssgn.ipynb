{
 "cells": [
  {
   "cell_type": "markdown",
   "id": "76a92856-23d6-4fe2-8e3d-1e7f6070e436",
   "metadata": {},
   "source": [
    "# Numpy Assignment"
   ]
  },
  {
   "cell_type": "markdown",
   "id": "7386f50a-0458-41b8-ba3a-8627555400ff",
   "metadata": {},
   "source": [
    "##### 1. Create a 1D array of numbers from 0 to 9."
   ]
  },
  {
   "cell_type": "code",
   "execution_count": 1,
   "id": "ef669317-2b58-484b-a322-c81df41cc3a2",
   "metadata": {},
   "outputs": [],
   "source": [
    "import numpy as np"
   ]
  },
  {
   "cell_type": "code",
   "execution_count": 6,
   "id": "9111f7e4-84b1-48da-b855-b958351cd695",
   "metadata": {},
   "outputs": [
    {
     "name": "stdout",
     "output_type": "stream",
     "text": [
      "[0 1 2 3 4 5 6 7 8 9]\n"
     ]
    }
   ],
   "source": [
    "arr = np.arange(0,10)\n",
    "print(arr)"
   ]
  },
  {
   "cell_type": "markdown",
   "id": "ebab3126-ce5d-442f-a7d4-7e0efc56b273",
   "metadata": {},
   "source": [
    "##### 2. Create a 3×3 numpy array of all True’s"
   ]
  },
  {
   "cell_type": "code",
   "execution_count": 11,
   "id": "91bb9659-ec02-4cd4-8fa4-6385d4c821f2",
   "metadata": {},
   "outputs": [
    {
     "name": "stdout",
     "output_type": "stream",
     "text": [
      "[[ True  True  True]\n",
      " [ True  True  True]\n",
      " [ True  True  True]]\n"
     ]
    }
   ],
   "source": [
    "boolArr = np.ones((3,3),dtype=bool) * True\n",
    "print(boolArr)"
   ]
  },
  {
   "cell_type": "markdown",
   "id": "80aaef87-50c7-41d8-9151-abb11c92f4f3",
   "metadata": {},
   "source": [
    "##### 3. Given an array as input, print only odd numbers as output"
   ]
  },
  {
   "cell_type": "code",
   "execution_count": 14,
   "id": "798f47fc-6b74-4e01-b789-2a245f772d46",
   "metadata": {},
   "outputs": [
    {
     "name": "stdout",
     "output_type": "stream",
     "text": [
      "[ 0  2  4  6  8 10 12 14 16 18 20 22 24 26 28 30 32 34 36 38 40 42 44 46\n",
      " 48]\n"
     ]
    }
   ],
   "source": [
    "arr = np.arange(0,50)\n",
    "print(arr[arr.flatten() % 2 == 0])"
   ]
  },
  {
   "cell_type": "markdown",
   "id": "68df195a-ee89-4025-ae05-5fa1aac43bc6",
   "metadata": {},
   "source": [
    "##### 4. Replace all odd numbers in arr with -2"
   ]
  },
  {
   "cell_type": "code",
   "execution_count": 20,
   "id": "62650d8b-349a-4895-9110-2774493c6590",
   "metadata": {},
   "outputs": [
    {
     "name": "stdout",
     "output_type": "stream",
     "text": [
      "[[-2  2 -2]\n",
      " [ 4 -2  6]\n",
      " [-2  8 -2]]\n"
     ]
    }
   ],
   "source": [
    "arr = np.array([[1,2,3],[4,5,6],[7,8,9]])\n",
    "mod_arr = np.where(arr%2 == 0,arr , -2)\n",
    "print(mod_arr)"
   ]
  },
  {
   "cell_type": "markdown",
   "id": "f892af70-7d0d-44ee-9612-9525cd1ec4cd",
   "metadata": {},
   "source": [
    "##### 5. How to reshape an array?"
   ]
  },
  {
   "cell_type": "code",
   "execution_count": 22,
   "id": "054e0739-c744-4727-971f-6c686ebfb83a",
   "metadata": {},
   "outputs": [
    {
     "name": "stdout",
     "output_type": "stream",
     "text": [
      "[[ 1  2]\n",
      " [ 3  4]\n",
      " [ 5  6]\n",
      " [ 7  8]\n",
      " [ 9 10]\n",
      " [11 12]]\n"
     ]
    }
   ],
   "source": [
    "arr = np.array([[1,2,3],[4,5,6],[7,8,9],[10,11,12]])\n",
    "mod_arr = arr.reshape(6,2)\n",
    "print(mod_arr)"
   ]
  },
  {
   "cell_type": "markdown",
   "id": "8cf51031-cebf-4e68-bfea-7161c43752cf",
   "metadata": {},
   "source": [
    "##### 6. Convert a 1D array to a 2D array with 2 rows"
   ]
  },
  {
   "cell_type": "code",
   "execution_count": 43,
   "id": "4f5c8b21-fa36-4317-91f3-ce6f8ee6c6be",
   "metadata": {},
   "outputs": [
    {
     "name": "stdout",
     "output_type": "stream",
     "text": [
      "[[ 0  1]\n",
      " [ 2  3]\n",
      " [ 4  5]\n",
      " [ 6  7]\n",
      " [ 8  9]\n",
      " [10 11]\n",
      " [12 13]\n",
      " [14 15]\n",
      " [16 17]\n",
      " [18 19]]\n"
     ]
    }
   ],
   "source": [
    "arr = np.arange(0,20)\n",
    "if arr.shape[0]%2 == 0:\n",
    "    d = int(arr.shape[0]/2)\n",
    "    mod_arr = arr.reshape(d,2)\n",
    "    print(mod_arr)"
   ]
  },
  {
   "cell_type": "markdown",
   "id": "bf6b0409-416f-4853-91d3-df0d09154386",
   "metadata": {},
   "source": [
    "##### 7. Given an array  a  = [1,2,3,4,5,6,7,8,9] , create  new array b from a such that b includes all odd numbers and 4 multiples. "
   ]
  },
  {
   "cell_type": "code",
   "execution_count": 83,
   "id": "22b53c91-aed7-487d-87ee-05f85cef77be",
   "metadata": {},
   "outputs": [
    {
     "name": "stdout",
     "output_type": "stream",
     "text": [
      "[4 8]\n"
     ]
    }
   ],
   "source": [
    "a = [1,2,3,4,5,6,7,8,9]\n",
    "arr = np.array(a)\n",
    "mod_arr = arr[not(np.where(arr%2 == 1)) or np.where(arr%4 == 0)]\n",
    "print(mod_arr)\n"
   ]
  },
  {
   "cell_type": "markdown",
   "id": "4c30d8bc-37de-488e-aed0-422b17e65692",
   "metadata": {},
   "source": [
    "##### 8. Given array, check if there are any null values and print them out. \n"
   ]
  },
  {
   "cell_type": "markdown",
   "id": "65544c43-da69-4c06-bf81-e9bff2ca7a90",
   "metadata": {},
   "source": [
    "##### 9. How to replace all missing values with 0 in a numpy array?"
   ]
  },
  {
   "cell_type": "markdown",
   "id": "8f5c153e-d88c-468f-b50d-34cebca82d90",
   "metadata": {},
   "source": [
    "##### Not Applicable"
   ]
  },
  {
   "cell_type": "markdown",
   "id": "17497c6c-d8e1-464b-875e-857c78b9c18c",
   "metadata": {},
   "source": [
    "##### 10. How to find the count of each unique number in a NumPy array?\n",
    "\n"
   ]
  },
  {
   "cell_type": "code",
   "execution_count": 88,
   "id": "2fbf00dd-9924-4a38-a85b-fa4d882019db",
   "metadata": {},
   "outputs": [
    {
     "name": "stdout",
     "output_type": "stream",
     "text": [
      "{1: 8, 3: 5, 0: 8, 2: 4}\n"
     ]
    }
   ],
   "source": [
    "np.random.seed(29)\n",
    "rArray = np.random.randint(4,size=(5,5))\n",
    "\n",
    "uniqueMap ={}\n",
    "for item in rArray.flatten():\n",
    "    if (item in uniqueMap.keys()):\n",
    "        uniqueMap[item] = uniqueMap[item] + 1\n",
    "    else:\n",
    "        uniqueMap[item] = 1\n",
    "        \n",
    "    \n",
    "print(uniqueMap)"
   ]
  },
  {
   "cell_type": "markdown",
   "id": "d7d42eba-7d4d-4c92-afdb-92ea13e2401f",
   "metadata": {},
   "source": [
    "##### 12. Write a program to print all numbers between 99 and 299 which are either divisible by 5 or 7. Exclude the elements which are divisible by both. "
   ]
  },
  {
   "cell_type": "code",
   "execution_count": 89,
   "id": "0283d6c3-037f-409a-ad86-5b84d61005e9",
   "metadata": {},
   "outputs": [
    {
     "name": "stdout",
     "output_type": "stream",
     "text": [
      "[130, 15, 430, 150, 205, 252, 250, 20, 220, 390, 84, 285, 448, 315, 115, 170, 475, 462, 469, 154, 465, 220, 270, 310, 55, 406]\n"
     ]
    }
   ],
   "source": [
    "rArray = np.random.randint(500,size=(10,10))\n",
    "\n",
    "reqList = []\n",
    "for obj in rArray.flatten():\n",
    "    if((obj % 5 == 0) or (obj %7 == 0)):\n",
    "        reqList.append(obj)\n",
    "    \n",
    "print(reqList)\n",
    "    "
   ]
  },
  {
   "cell_type": "markdown",
   "id": "e46c3ac4-5b8a-4fb4-a54d-0cec6700d005",
   "metadata": {},
   "source": [
    "##### 13. Write a program to reverse an array and print (Don’t use inbuilt reverse functions)"
   ]
  },
  {
   "cell_type": "code",
   "execution_count": 93,
   "id": "7b506483-743e-45e6-abc6-6683a9c9049f",
   "metadata": {},
   "outputs": [
    {
     "name": "stdout",
     "output_type": "stream",
     "text": [
      "[19 18 17 16 15 14 13 12 11 10  9  8  7  6  5  4  3  2  1]\n"
     ]
    }
   ],
   "source": [
    "arr = np.arange(0,20)\n",
    "\n",
    "modArr = arr[-1:0:-1]\n",
    "print(modArr)"
   ]
  },
  {
   "cell_type": "code",
   "execution_count": null,
   "id": "7d7914dc-b13d-4715-8e36-3fcfbe80e3cc",
   "metadata": {},
   "outputs": [],
   "source": []
  }
 ],
 "metadata": {
  "kernelspec": {
   "display_name": "Python 3",
   "language": "python",
   "name": "python3"
  },
  "language_info": {
   "codemirror_mode": {
    "name": "ipython",
    "version": 3
   },
   "file_extension": ".py",
   "mimetype": "text/x-python",
   "name": "python",
   "nbconvert_exporter": "python",
   "pygments_lexer": "ipython3",
   "version": "3.8.8"
  }
 },
 "nbformat": 4,
 "nbformat_minor": 5
}
